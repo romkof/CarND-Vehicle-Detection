{
 "cells": [
  {
   "cell_type": "code",
   "execution_count": 2,
   "metadata": {},
   "outputs": [
    {
     "name": "stdout",
     "output_type": "stream",
     "text": [
      "Read a new frame:  True\n",
      "Read a new frame:  True\n",
      "Read a new frame:  True\n",
      "Read a new frame:  True\n",
      "Read a new frame:  True\n",
      "Read a new frame:  True\n",
      "Read a new frame:  True\n",
      "Read a new frame:  True\n",
      "Read a new frame:  True\n",
      "Read a new frame:  True\n",
      "Read a new frame:  True\n",
      "Read a new frame:  True\n",
      "Read a new frame:  True\n",
      "Read a new frame:  True\n",
      "Read a new frame:  True\n",
      "Read a new frame:  True\n",
      "Read a new frame:  True\n",
      "Read a new frame:  True\n",
      "Read a new frame:  True\n",
      "Read a new frame:  True\n",
      "Read a new frame:  True\n",
      "Read a new frame:  True\n",
      "Read a new frame:  True\n",
      "Read a new frame:  True\n",
      "Read a new frame:  True\n",
      "Read a new frame:  True\n",
      "Read a new frame:  True\n",
      "Read a new frame:  True\n",
      "Read a new frame:  True\n",
      "Read a new frame:  True\n",
      "Read a new frame:  True\n",
      "Read a new frame:  True\n",
      "Read a new frame:  True\n",
      "Read a new frame:  True\n",
      "Read a new frame:  True\n",
      "Read a new frame:  True\n",
      "Read a new frame:  True\n",
      "Read a new frame:  True\n",
      "Read a new frame:  True\n",
      "Read a new frame:  True\n",
      "Read a new frame:  True\n",
      "Read a new frame:  True\n",
      "Read a new frame:  True\n",
      "Read a new frame:  True\n",
      "Read a new frame:  True\n",
      "Read a new frame:  True\n",
      "Read a new frame:  True\n",
      "Read a new frame:  True\n",
      "Read a new frame:  True\n",
      "Read a new frame:  True\n",
      "Read a new frame:  True\n",
      "Read a new frame:  True\n",
      "Read a new frame:  True\n",
      "Read a new frame:  True\n",
      "Read a new frame:  True\n",
      "Read a new frame:  True\n",
      "Read a new frame:  True\n",
      "Read a new frame:  True\n",
      "Read a new frame:  True\n",
      "Read a new frame:  True\n",
      "Read a new frame:  True\n",
      "Read a new frame:  True\n",
      "Read a new frame:  True\n",
      "Read a new frame:  True\n",
      "Read a new frame:  True\n"
     ]
    },
    {
     "ename": "KeyboardInterrupt",
     "evalue": "",
     "output_type": "error",
     "traceback": [
      "\u001b[0;31m---------------------------------------------------------------------------\u001b[0m",
      "\u001b[0;31mKeyboardInterrupt\u001b[0m                         Traceback (most recent call last)",
      "\u001b[0;32m<ipython-input-2-8b8862cf21aa>\u001b[0m in \u001b[0;36m<module>\u001b[0;34m()\u001b[0m\n\u001b[1;32m      6\u001b[0m \u001b[0;32mwhile\u001b[0m \u001b[0msuccess\u001b[0m\u001b[0;34m:\u001b[0m\u001b[0;34m\u001b[0m\u001b[0m\n\u001b[1;32m      7\u001b[0m   \u001b[0mcv2\u001b[0m\u001b[0;34m.\u001b[0m\u001b[0mimwrite\u001b[0m\u001b[0;34m(\u001b[0m\u001b[0;34m\"hard_mining/frame%d.jpg\"\u001b[0m \u001b[0;34m%\u001b[0m \u001b[0mcount\u001b[0m\u001b[0;34m,\u001b[0m \u001b[0mimage\u001b[0m\u001b[0;34m)\u001b[0m     \u001b[0;31m# save frame as JPEG file\u001b[0m\u001b[0;34m\u001b[0m\u001b[0m\n\u001b[0;32m----> 8\u001b[0;31m   \u001b[0msuccess\u001b[0m\u001b[0;34m,\u001b[0m\u001b[0mimage\u001b[0m \u001b[0;34m=\u001b[0m \u001b[0mvidcap\u001b[0m\u001b[0;34m.\u001b[0m\u001b[0mread\u001b[0m\u001b[0;34m(\u001b[0m\u001b[0;34m)\u001b[0m\u001b[0;34m\u001b[0m\u001b[0m\n\u001b[0m\u001b[1;32m      9\u001b[0m   \u001b[0mprint\u001b[0m\u001b[0;34m(\u001b[0m\u001b[0;34m'Read a new frame: '\u001b[0m\u001b[0;34m,\u001b[0m \u001b[0msuccess\u001b[0m\u001b[0;34m)\u001b[0m\u001b[0;34m\u001b[0m\u001b[0m\n\u001b[1;32m     10\u001b[0m   \u001b[0mcount\u001b[0m \u001b[0;34m+=\u001b[0m \u001b[0;36m1\u001b[0m\u001b[0;34m\u001b[0m\u001b[0m\n",
      "\u001b[0;31mKeyboardInterrupt\u001b[0m: "
     ]
    }
   ],
   "source": [
    "import cv2\n",
    "vidcap = cv2.VideoCapture('project_video_result.mp4')\n",
    "success,image = vidcap.read()\n",
    "count = 0\n",
    "success = True\n",
    "while success:\n",
    "  cv2.imwrite(\"hard_mining/frame%d.jpg\" % count, image)     # save frame as JPEG file\n",
    "  success,image = vidcap.read()\n",
    "  print('Read a new frame: ', success)\n",
    "  count += 1"
   ]
  },
  {
   "cell_type": "code",
   "execution_count": 3,
   "metadata": {},
   "outputs": [],
   "source": [
    "import glob\n",
    "import cv2\n",
    "def read_images(image_paths):\n",
    "    return [cv2.imread(path) for path in image_paths]"
   ]
  },
  {
   "cell_type": "code",
   "execution_count": 18,
   "metadata": {},
   "outputs": [
    {
     "name": "stdout",
     "output_type": "stream",
     "text": [
      "Processed image:  0\n",
      "Processed image:  1\n",
      "Processed image:  2\n",
      "Processed image:  3\n",
      "Processed image:  4\n",
      "Processed image:  5\n",
      "Processed image:  6\n",
      "Processed image:  7\n",
      "Processed image:  8\n",
      "Processed image:  9\n",
      "Processed image:  10\n",
      "Processed image:  11\n",
      "Processed image:  12\n",
      "Processed image:  13\n",
      "Processed image:  14\n",
      "Processed image:  15\n",
      "Processed image:  16\n",
      "Processed image:  17\n",
      "Processed image:  18\n",
      "Processed image:  19\n",
      "Processed image:  20\n",
      "Processed image:  21\n",
      "Processed image:  22\n",
      "Processed image:  23\n",
      "Processed image:  24\n",
      "Processed image:  25\n",
      "Processed image:  26\n",
      "Processed image:  27\n",
      "Processed image:  28\n",
      "Processed image:  29\n",
      "Processed image:  30\n",
      "Processed image:  31\n",
      "Processed image:  32\n",
      "Processed image:  33\n",
      "Processed image:  34\n",
      "Processed image:  35\n",
      "Processed image:  36\n",
      "Processed image:  37\n",
      "Processed image:  38\n",
      "Processed image:  39\n",
      "Processed image:  40\n",
      "Processed image:  41\n",
      "Processed image:  42\n",
      "Processed image:  43\n",
      "Processed image:  44\n",
      "Processed image:  45\n",
      "Processed image:  46\n",
      "Processed image:  47\n",
      "Processed image:  48\n",
      "Processed image:  49\n",
      "Processed image:  50\n",
      "Processed image:  51\n",
      "Processed image:  52\n",
      "Processed image:  53\n",
      "Processed image:  54\n",
      "Processed image:  55\n",
      "Processed image:  56\n",
      "Processed image:  57\n",
      "Processed image:  58\n",
      "Processed image:  59\n",
      "Processed image:  60\n",
      "Processed image:  61\n",
      "Processed image:  62\n",
      "Processed image:  63\n",
      "Processed image:  64\n",
      "Processed image:  65\n",
      "Processed image:  66\n",
      "Processed image:  67\n",
      "Processed image:  68\n",
      "Processed image:  69\n",
      "Processed image:  70\n",
      "Processed image:  71\n",
      "Processed image:  72\n",
      "Processed image:  73\n",
      "Processed image:  74\n",
      "Processed image:  75\n",
      "Processed image:  76\n",
      "Processed image:  77\n",
      "Processed image:  78\n",
      "Processed image:  79\n",
      "Processed image:  80\n",
      "Processed image:  81\n",
      "Processed image:  82\n",
      "Processed image:  83\n",
      "Processed image:  84\n",
      "Processed image:  85\n",
      "Processed image:  86\n",
      "Processed image:  87\n",
      "Processed image:  88\n",
      "Processed image:  89\n",
      "Processed image:  90\n",
      "Processed image:  91\n",
      "Processed image:  92\n",
      "Processed image:  93\n",
      "Processed image:  94\n",
      "Processed image:  95\n",
      "Processed image:  96\n",
      "Processed image:  97\n",
      "Processed image:  98\n",
      "Processed image:  99\n"
     ]
    }
   ],
   "source": [
    "images = read_images(glob.glob('false_positive_samples/*.png'))\n",
    "for i, image in  enumerate(images):\n",
    "    resized_image = cv2.resize(image, (64, 64))\n",
    "    cv2.imwrite(\"resized_false_positive_samples/frame%d.png\" % i, resized_image)\n",
    "    print(\"Processed image: \",i)"
   ]
  },
  {
   "cell_type": "code",
   "execution_count": 20,
   "metadata": {},
   "outputs": [],
   "source": [
    "false_positive_frames =  [1 ,148 ,168 ,181 ,182 ,185 ,187 ,191 ,192 ,193 ,236 ,240 ,251 ,252 ,254 ,258 ,261 ,281 ,284 ,296 ,315 ,317 ,319 ,322 ,323 ,326 ,340 ,341 ,347 ,348 ,349 ,350 ,351 ,353 ,358 ,39 ,404 ,42 ,440 ,456 ,463 ,531 ,534 ,535 ,536 ,537 ,539 ,540 ,541 ,544 ,545 ,546 ,549 ,550 ,551 ,552 ,553 ,554 ,555 ,567 ,568 ,570 ,573 ,574 ,578 ,583 ,584 ,587 ,59 ,65 ,66 ,71 ,76 ,8 ,978 ,981 ,983 ,986 ,989 ]"
   ]
  },
  {
   "cell_type": "code",
   "execution_count": 21,
   "metadata": {},
   "outputs": [],
   "source": [
    "vidcap = cv2.VideoCapture('project_video.mp4')\n",
    "success,image = vidcap.read()\n",
    "count = 0\n",
    "success = True\n",
    "while success:\n",
    "    if count in false_positive_frames:  \n",
    "        cv2.imwrite(\"flase_positive_ftames_test/frame%d.jpg\" % count, image)     # save frame as JPEG file\n",
    "    success,image = vidcap.read()\n",
    "    count += 1"
   ]
  },
  {
   "cell_type": "code",
   "execution_count": 22,
   "metadata": {},
   "outputs": [
    {
     "data": {
      "text/plain": [
       "79"
      ]
     },
     "execution_count": 22,
     "metadata": {},
     "output_type": "execute_result"
    }
   ],
   "source": [
    "len(false_positive_frames)"
   ]
  },
  {
   "cell_type": "code",
   "execution_count": 11,
   "metadata": {},
   "outputs": [],
   "source": [
    "#glob.glob('test_flase_positive/.*jpg')\n",
    "files = glob.glob('test_flase_positive/*.jpg')[:10]"
   ]
  },
  {
   "cell_type": "code",
   "execution_count": 12,
   "metadata": {},
   "outputs": [
    {
     "data": {
      "text/plain": [
       "['test_flase_positive/frame583.jpg',\n",
       " 'test_flase_positive/frame540.jpg',\n",
       " 'test_flase_positive/frame554.jpg',\n",
       " 'test_flase_positive/frame568.jpg',\n",
       " 'test_flase_positive/frame193.jpg',\n",
       " 'test_flase_positive/frame187.jpg',\n",
       " 'test_flase_positive/frame347.jpg',\n",
       " 'test_flase_positive/frame353.jpg',\n",
       " 'test_flase_positive/frame192.jpg',\n",
       " 'test_flase_positive/frame555.jpg']"
      ]
     },
     "execution_count": 12,
     "metadata": {},
     "output_type": "execute_result"
    }
   ],
   "source": [
    "files"
   ]
  },
  {
   "cell_type": "code",
   "execution_count": null,
   "metadata": {},
   "outputs": [],
   "source": []
  }
 ],
 "metadata": {
  "kernelspec": {
   "display_name": "Python 3",
   "language": "python",
   "name": "python3"
  },
  "language_info": {
   "codemirror_mode": {
    "name": "ipython",
    "version": 3
   },
   "file_extension": ".py",
   "mimetype": "text/x-python",
   "name": "python",
   "nbconvert_exporter": "python",
   "pygments_lexer": "ipython3",
   "version": "3.5.2"
  },
  "widgets": {
   "state": {},
   "version": "1.1.2"
  }
 },
 "nbformat": 4,
 "nbformat_minor": 2
}
